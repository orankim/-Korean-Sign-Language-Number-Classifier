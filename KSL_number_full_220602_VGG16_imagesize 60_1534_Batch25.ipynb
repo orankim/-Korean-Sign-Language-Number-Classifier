{
 "cells": [
  {
   "cell_type": "markdown",
   "metadata": {},
   "source": [
    "## Import Packages"
   ]
  },
  {
   "cell_type": "code",
   "execution_count": 1,
   "metadata": {
    "scrolled": true
   },
   "outputs": [],
   "source": [
    "# import data processing and visualisation libraries\n",
    "import numpy as np\n",
    "import pandas as pd\n",
    "import seaborn as sns\n",
    "import matplotlib.pyplot as plt\n",
    "%matplotlib inline\n",
    "\n",
    "# import image processing libraries\n",
    "import cv2\n",
    "import skimage\n",
    "from skimage.transform import resize\n",
    "\n",
    "# import tensorflow and keras\n",
    "import tensorflow as tf\n",
    "from tensorflow import keras\n",
    "import os"
   ]
  },
  {
   "cell_type": "markdown",
   "metadata": {},
   "source": [
    "## Load Data"
   ]
  },
  {
   "cell_type": "code",
   "execution_count": 2,
   "metadata": {},
   "outputs": [],
   "source": [
    "#기본 Parameter 설정\n",
    "BATCHSIZE = 25\n",
    "imageSize = 60\n",
    "target_dims = (imageSize, imageSize, 3)\n",
    "num_classes = 11 #0~10까지 총 11개\n",
    "train_len = 1534 #총 파일 수\n",
    "\n",
    "train_dir = \"../input/train/\" #train 폴더 경로 지정(끝에 / 까지 쳐야함)"
   ]
  },
  {
   "cell_type": "code",
   "execution_count": null,
   "metadata": {},
   "outputs": [],
   "source": [
    "from tqdm import tqdm #진행상황바 표시해주는 패키지\n",
    "\n",
    "def get_data(folder, data_len): #data불러오는 함수\n",
    "    \n",
    "    X = np.empty((data_len, imageSize, imageSize, 3), dtype=np.float32)\n",
    "    y = np.empty((data_len,), dtype=np.int)\n",
    "    cnt = 0\n",
    "\n",
    "    for folderName in os.listdir(folder): #기존 ASL alphabet용 코드를 약간 변형시켜줌\n",
    "        if not folderName.startswith('.'):\n",
    "            if folderName in ['00']: #label이 0부터 시작하게 하려고 0 사진 다운 받아둠\n",
    "                label = 0\n",
    "            elif folderName in ['01']:\n",
    "                label = 1\n",
    "            elif folderName in ['02']:\n",
    "                label = 2\n",
    "            elif folderName in ['03']:\n",
    "                label = 3\n",
    "            elif folderName in ['04']:\n",
    "                label = 4\n",
    "            elif folderName in ['05']:\n",
    "                label = 5\n",
    "            elif folderName in ['06']:\n",
    "                label = 6\n",
    "            elif folderName in ['07']:\n",
    "                label = 7\n",
    "            elif folderName in ['08']:\n",
    "                label = 8\n",
    "            elif folderName in ['09']:\n",
    "                label = 9\n",
    "            elif folderName in ['10']:\n",
    "                label = 10\n",
    "            for image_filename in tqdm(os.listdir(folder + folderName)):\n",
    "              img_file = cv2.imread(folder + folderName + '/' + image_filename)\n",
    "              if img_file is not None:\n",
    "                img_file = skimage.transform.resize(img_file, (imageSize, imageSize, 3)) #image 사이즈 조정\n",
    "                img_arr = np.asarray(img_file)\n",
    "                \n",
    "                X[cnt] = img_arr\n",
    "                y[cnt] = label\n",
    "                cnt += 1\n",
    "\n",
    "    return X,y"
   ]
  },
  {
   "cell_type": "code",
   "execution_count": null,
   "metadata": {},
   "outputs": [],
   "source": [
    "#X_train, y_train = get_data(train_dir,train_len)"
   ]
  },
  {
   "cell_type": "code",
   "execution_count": 3,
   "metadata": {},
   "outputs": [],
   "source": [
    "#pickle 파일 load\n",
    "\n",
    "import pickle\n",
    "\n",
    "with open(\"../pickle/X_train_220602_imagesize_60_full\",\"rb\") as file :\n",
    "    X_train=pickle.load(file)\n",
    "    \n",
    "with open(\"../pickle/y_train_220602_imagesize_60_full\",\"rb\") as file2 :\n",
    "    y_train=pickle.load(file2)"
   ]
  },
  {
   "cell_type": "code",
   "execution_count": 4,
   "metadata": {},
   "outputs": [
    {
     "name": "stdout",
     "output_type": "stream",
     "text": [
      "The shape of X_train is :  (1534, 60, 60, 3)\n",
      "The shape of y_train is :  (1534,)\n",
      "The shape of one image is :  (60, 60, 3)\n"
     ]
    }
   ],
   "source": [
    "#data 불러온 결과 shape출력(데이터수, imageSize, imageSize, 3) : get_data함수에서 설정해준 항목\n",
    "print(\"The shape of X_train is : \", X_train.shape)\n",
    "print(\"The shape of y_train is : \", y_train.shape)\n",
    "print(\"The shape of one image is : \", X_train[0].shape)"
   ]
  },
  {
   "cell_type": "code",
   "execution_count": 5,
   "metadata": {},
   "outputs": [
    {
     "data": {
      "image/png": "[encoded data removed]",
      "text/plain": [
       "<Figure size 432x288 with 1 Axes>"
      ]
     },
     "metadata": {
      "needs_background": "light"
     },
     "output_type": "display_data"
    }
   ],
   "source": [
    "#예시로 이미지 출력\n",
    "plt.imshow(X_train[0])\n",
    "plt.show()"
   ]
  },
  {
   "cell_type": "code",
   "execution_count": 6,
   "metadata": {},
   "outputs": [],
   "source": [
    "#Making copies of original data\n",
    "X_data = X_train\n",
    "y_data = y_train"
   ]
  },
  {
   "cell_type": "code",
   "execution_count": 7,
   "metadata": {},
   "outputs": [],
   "source": [
    "#있는 데이터로 train, test split해주는 함수, test_size에서 비율 조정 가능\n",
    "from sklearn.model_selection import train_test_split\n",
    "X_train, X_test, y_train, y_test = train_test_split(X_data, y_data, test_size=0.3,random_state=42,stratify=y_data)"
   ]
  },
  {
   "cell_type": "code",
   "execution_count": 8,
   "metadata": {},
   "outputs": [
    {
     "name": "stdout",
     "output_type": "stream",
     "text": [
      "(1073, 60, 60, 3)\n",
      "(1073,)\n",
      "(461, 60, 60, 3)\n",
      "(461,)\n"
     ]
    }
   ],
   "source": [
    "#train,test split된 것 출력해서 확인\n",
    "print(X_train.shape)\n",
    "print(y_train.shape)\n",
    "print(X_test.shape)\n",
    "print(y_test.shape)"
   ]
  },
  {
   "cell_type": "markdown",
   "metadata": {},
   "source": [
    "## Modeling(VGG16)"
   ]
  },
  {
   "cell_type": "code",
   "execution_count": 9,
   "metadata": {},
   "outputs": [],
   "source": [
    "from tensorflow.keras.models import Sequential\n",
    "from tensorflow.keras.layers import Conv2D, MaxPool2D, Activation, Dense, Flatten, BatchNormalization, Dropout"
   ]
  },
  {
   "cell_type": "code",
   "execution_count": 10,
   "metadata": {},
   "outputs": [
    {
     "name": "stdout",
     "output_type": "stream",
     "text": [
      "Model: \"sequential\"\n",
      "_________________________________________________________________\n",
      " Layer (type)                Output Shape              Param #   \n",
      "=================================================================\n",
      " conv2d (Conv2D)             (None, 60, 60, 64)        1792      \n",
      "                                                                 \n",
      " batch_normalization (BatchN  (None, 60, 60, 64)       256       \n",
      " ormalization)                                                   \n",
      "                                                                 \n",
      " activation (Activation)     (None, 60, 60, 64)        0         \n",
      "                                                                 \n",
      " conv2d_1 (Conv2D)           (None, 60, 60, 64)        36928     \n",
      "                                                                 \n",
      " batch_normalization_1 (Batc  (None, 60, 60, 64)       256       \n",
      " hNormalization)                                                 \n",
      "                                                                 \n",
      " activation_1 (Activation)   (None, 60, 60, 64)        0         \n",
      "                                                                 \n",
      " max_pooling2d (MaxPooling2D  (None, 30, 30, 64)       0         \n",
      " )                                                               \n",
      "                                                                 \n",
      " conv2d_2 (Conv2D)           (None, 30, 30, 128)       73856     \n",
      "                                                                 \n",
      " batch_normalization_2 (Batc  (None, 30, 30, 128)      512       \n",
      " hNormalization)                                                 \n",
      "                                                                 \n",
      " activation_2 (Activation)   (None, 30, 30, 128)       0         \n",
      "                                                                 \n",
      " conv2d_3 (Conv2D)           (None, 30, 30, 128)       147584    \n",
      "                                                                 \n",
      " batch_normalization_3 (Batc  (None, 30, 30, 128)      512       \n",
      " hNormalization)                                                 \n",
      "                                                                 \n",
      " activation_3 (Activation)   (None, 30, 30, 128)       0         \n",
      "                                                                 \n",
      " max_pooling2d_1 (MaxPooling  (None, 15, 15, 128)      0         \n",
      " 2D)                                                             \n",
      "                                                                 \n",
      " conv2d_4 (Conv2D)           (None, 15, 15, 256)       295168    \n",
      "                                                                 \n",
      " batch_normalization_4 (Batc  (None, 15, 15, 256)      1024      \n",
      " hNormalization)                                                 \n",
      "                                                                 \n",
      " activation_4 (Activation)   (None, 15, 15, 256)       0         \n",
      "                                                                 \n",
      " conv2d_5 (Conv2D)           (None, 15, 15, 256)       590080    \n",
      "                                                                 \n",
      " batch_normalization_5 (Batc  (None, 15, 15, 256)      1024      \n",
      " hNormalization)                                                 \n",
      "                                                                 \n",
      " activation_5 (Activation)   (None, 15, 15, 256)       0         \n",
      "                                                                 \n",
      " conv2d_6 (Conv2D)           (None, 15, 15, 256)       590080    \n",
      "                                                                 \n",
      " batch_normalization_6 (Batc  (None, 15, 15, 256)      1024      \n",
      " hNormalization)                                                 \n",
      "                                                                 \n",
      " activation_6 (Activation)   (None, 15, 15, 256)       0         \n",
      "                                                                 \n",
      " max_pooling2d_2 (MaxPooling  (None, 7, 7, 256)        0         \n",
      " 2D)                                                             \n",
      "                                                                 \n",
      " conv2d_7 (Conv2D)           (None, 7, 7, 512)         1180160   \n",
      "                                                                 \n",
      " batch_normalization_7 (Batc  (None, 7, 7, 512)        2048      \n",
      " hNormalization)                                                 \n",
      "                                                                 \n",
      " activation_7 (Activation)   (None, 7, 7, 512)         0         \n",
      "                                                                 \n",
      " conv2d_8 (Conv2D)           (None, 7, 7, 512)         2359808   \n",
      "                                                                 \n",
      " batch_normalization_8 (Batc  (None, 7, 7, 512)        2048      \n",
      " hNormalization)                                                 \n",
      "                                                                 \n",
      " activation_8 (Activation)   (None, 7, 7, 512)         0         \n",
      "                                                                 \n",
      " conv2d_9 (Conv2D)           (None, 7, 7, 512)         2359808   \n",
      "                                                                 \n",
      " batch_normalization_9 (Batc  (None, 7, 7, 512)        2048      \n",
      " hNormalization)                                                 \n",
      "                                                                 \n",
      " activation_9 (Activation)   (None, 7, 7, 512)         0         \n",
      "                                                                 \n",
      " max_pooling2d_3 (MaxPooling  (None, 3, 3, 512)        0         \n",
      " 2D)                                                             \n",
      "                                                                 \n",
      " max_pooling2d_4 (MaxPooling  (None, 1, 1, 512)        0         \n",
      " 2D)                                                             \n",
      "                                                                 \n",
      " flatten (Flatten)           (None, 512)               0         \n",
      "                                                                 \n",
      " dense (Dense)               (None, 4096)              2101248   \n",
      "                                                                 \n",
      " dropout (Dropout)           (None, 4096)              0         \n",
      "                                                                 \n",
      " dense_1 (Dense)             (None, 4096)              16781312  \n",
      "                                                                 \n",
      " dropout_1 (Dropout)         (None, 4096)              0         \n",
      "                                                                 \n",
      " dense_2 (Dense)             (None, 11)                45067     \n",
      "                                                                 \n",
      "=================================================================\n",
      "Total params: 26,573,643\n",
      "Trainable params: 26,568,267\n",
      "Non-trainable params: 5,376\n",
      "_________________________________________________________________\n"
     ]
    }
   ],
   "source": [
    "#Building model\n",
    "model = Sequential()\n",
    "\n",
    "#input shape는 위에 print(X_train.shape)로 확인한 차원을 적어야함\n",
    "model.add(Conv2D(64, 3, strides= 1, padding='same', input_shape=X_train.shape[1:]))\n",
    "model.add(BatchNormalization())\n",
    "model.add(Activation(activation='relu'))\n",
    "model.add(Conv2D(64, 3, strides= 1, padding='same'))\n",
    "model.add(BatchNormalization())\n",
    "model.add(Activation(activation='relu'))\n",
    "model.add(MaxPool2D((2,2), strides=2))\n",
    "\n",
    "model.add(Conv2D(128, 3, strides=1, padding='same'))\n",
    "model.add(BatchNormalization())\n",
    "model.add(Activation(activation='relu'))\n",
    "model.add(Conv2D(128, 3, strides=1, padding='same'))\n",
    "model.add(BatchNormalization())\n",
    "model.add(Activation(activation='relu'))\n",
    "model.add(MaxPool2D((2, 2), strides=2))\n",
    "\n",
    "model.add(Conv2D(256, 3, strides=1, padding='same'))\n",
    "model.add(BatchNormalization())\n",
    "model.add(Activation(activation='relu'))\n",
    "model.add(Conv2D(256, 3, strides=1, padding='same'))\n",
    "model.add(BatchNormalization())\n",
    "model.add(Activation(activation='relu'))\n",
    "model.add(Conv2D(256, 3, strides=1, padding='same'))\n",
    "model.add(BatchNormalization())\n",
    "model.add(Activation(activation='relu'))\n",
    "model.add(MaxPool2D((2, 2), strides=2))\n",
    "\n",
    "model.add(Conv2D(512, 3, strides=1, padding='same'))\n",
    "model.add(BatchNormalization())\n",
    "model.add(Activation(activation='relu'))\n",
    "model.add(Conv2D(512, 3, strides=1, padding='same'))\n",
    "model.add(BatchNormalization())\n",
    "model.add(Activation(activation='relu'))\n",
    "model.add(Conv2D(512, 3, strides=1, padding='same'))\n",
    "model.add(BatchNormalization())\n",
    "model.add(Activation(activation='relu'))\n",
    "model.add(MaxPool2D((2, 2), strides=2))\n",
    "model.add(MaxPool2D((2, 2), strides=2))\n",
    "\n",
    "model.add(Flatten())\n",
    "model.add(Dense(4096, activation='relu'))\n",
    "model.add(Dropout(0.5))\n",
    "model.add(Dense(4096, activation='relu'))\n",
    "model.add(Dropout(0.5))\n",
    "\n",
    "model.add(Dense(11, activation='softmax')) #softmax함수 이용해서 총 11개 Class(0~10)분류\n",
    "\n",
    "model.summary()"
   ]
  },
  {
   "cell_type": "code",
   "execution_count": 11,
   "metadata": {},
   "outputs": [],
   "source": [
    "#Early Stopping함수를 이용해서 patience수가 넘어가면 자동으로 Early Stopping되게 함\n",
    "from tensorflow.keras.callbacks import EarlyStopping\n",
    "early_stop = EarlyStopping(monitor='val_loss',patience=5)"
   ]
  },
  {
   "cell_type": "code",
   "execution_count": 12,
   "metadata": {},
   "outputs": [],
   "source": [
    "#Compiling\n",
    "model.compile(optimizer='Adam',\n",
    "              loss='sparse_categorical_crossentropy',\n",
    "              metrics=['accuracy'])"
   ]
  },
  {
   "cell_type": "code",
   "execution_count": 13,
   "metadata": {},
   "outputs": [
    {
     "name": "stdout",
     "output_type": "stream",
     "text": [
      "Epoch 1/50\n",
      "43/43 - 96s - loss: 3.1615 - accuracy: 0.1100 - val_loss: 4.6129 - val_accuracy: 0.1540 - 96s/epoch - 2s/step\n",
      "Epoch 2/50\n",
      "43/43 - 91s - loss: 2.3533 - accuracy: 0.1389 - val_loss: 2.3710 - val_accuracy: 0.1540 - 91s/epoch - 2s/step\n",
      "Epoch 3/50\n",
      "43/43 - 91s - loss: 2.2974 - accuracy: 0.1500 - val_loss: 2.3809 - val_accuracy: 0.1540 - 91s/epoch - 2s/step\n",
      "Epoch 4/50\n",
      "43/43 - 92s - loss: 2.2636 - accuracy: 0.1696 - val_loss: 2.4265 - val_accuracy: 0.0889 - 92s/epoch - 2s/step\n",
      "Epoch 5/50\n",
      "43/43 - 92s - loss: 2.1829 - accuracy: 0.1901 - val_loss: 4.6890 - val_accuracy: 0.0889 - 92s/epoch - 2s/step\n",
      "Epoch 6/50\n",
      "43/43 - 91s - loss: 1.9902 - accuracy: 0.2265 - val_loss: 7.3804 - val_accuracy: 0.0889 - 91s/epoch - 2s/step\n",
      "Epoch 7/50\n",
      "43/43 - 92s - loss: 1.8775 - accuracy: 0.2768 - val_loss: 9.8847 - val_accuracy: 0.0889 - 92s/epoch - 2s/step\n"
     ]
    },
    {
     "data": {
      "text/plain": [
       "<keras.callbacks.History at 0x26ce0ff6a90>"
      ]
     },
     "execution_count": 13,
     "metadata": {},
     "output_type": "execute_result"
    }
   ],
   "source": [
    "#Model fitting\n",
    "model.fit(X_train, y_train,\n",
    "          epochs=50,\n",
    "          batch_size=BATCHSIZE,\n",
    "          verbose=2,\n",
    "          validation_data=(X_test, y_test),\n",
    "          callbacks=[early_stop])"
   ]
  },
  {
   "cell_type": "markdown",
   "metadata": {},
   "source": [
    "## Result"
   ]
  },
  {
   "cell_type": "code",
   "execution_count": 14,
   "metadata": {},
   "outputs": [
    {
     "name": "stdout",
     "output_type": "stream",
     "text": [
      "The model metrics are\n"
     ]
    },
    {
     "data": {
      "text/html": [
       "<div>\n",
       "<style scoped>\n",
       "    .dataframe tbody tr th:only-of-type {\n",
       "        vertical-align: middle;\n",
       "    }\n",
       "\n",
       "    .dataframe tbody tr th {\n",
       "        vertical-align: top;\n",
       "    }\n",
       "\n",
       "    .dataframe thead th {\n",
       "        text-align: right;\n",
       "    }\n",
       "</style>\n",
       "<table border=\"1\" class=\"dataframe\">\n",
       "  <thead>\n",
       "    <tr style=\"text-align: right;\">\n",
       "      <th></th>\n",
       "      <th>loss</th>\n",
       "      <th>accuracy</th>\n",
       "      <th>val_loss</th>\n",
       "      <th>val_accuracy</th>\n",
       "    </tr>\n",
       "  </thead>\n",
       "  <tbody>\n",
       "    <tr>\n",
       "      <th>0</th>\n",
       "      <td>3.161515</td>\n",
       "      <td>0.109972</td>\n",
       "      <td>4.612918</td>\n",
       "      <td>0.154013</td>\n",
       "    </tr>\n",
       "    <tr>\n",
       "      <th>1</th>\n",
       "      <td>2.353275</td>\n",
       "      <td>0.138863</td>\n",
       "      <td>2.371001</td>\n",
       "      <td>0.154013</td>\n",
       "    </tr>\n",
       "    <tr>\n",
       "      <th>2</th>\n",
       "      <td>2.297388</td>\n",
       "      <td>0.150047</td>\n",
       "      <td>2.380867</td>\n",
       "      <td>0.154013</td>\n",
       "    </tr>\n",
       "    <tr>\n",
       "      <th>3</th>\n",
       "      <td>2.263638</td>\n",
       "      <td>0.169618</td>\n",
       "      <td>2.426468</td>\n",
       "      <td>0.088937</td>\n",
       "    </tr>\n",
       "    <tr>\n",
       "      <th>4</th>\n",
       "      <td>2.182921</td>\n",
       "      <td>0.190121</td>\n",
       "      <td>4.689035</td>\n",
       "      <td>0.088937</td>\n",
       "    </tr>\n",
       "    <tr>\n",
       "      <th>5</th>\n",
       "      <td>1.990239</td>\n",
       "      <td>0.226468</td>\n",
       "      <td>7.380370</td>\n",
       "      <td>0.088937</td>\n",
       "    </tr>\n",
       "    <tr>\n",
       "      <th>6</th>\n",
       "      <td>1.877487</td>\n",
       "      <td>0.276794</td>\n",
       "      <td>9.884653</td>\n",
       "      <td>0.088937</td>\n",
       "    </tr>\n",
       "  </tbody>\n",
       "</table>\n",
       "</div>"
      ],
      "text/plain": [
       "       loss  accuracy  val_loss  val_accuracy\n",
       "0  3.161515  0.109972  4.612918      0.154013\n",
       "1  2.353275  0.138863  2.371001      0.154013\n",
       "2  2.297388  0.150047  2.380867      0.154013\n",
       "3  2.263638  0.169618  2.426468      0.088937\n",
       "4  2.182921  0.190121  4.689035      0.088937\n",
       "5  1.990239  0.226468  7.380370      0.088937\n",
       "6  1.877487  0.276794  9.884653      0.088937"
      ]
     },
     "execution_count": 14,
     "metadata": {},
     "output_type": "execute_result"
    }
   ],
   "source": [
    "#Model metrics\n",
    "metrics = pd.DataFrame(model.history.history)\n",
    "print(\"The model metrics are\")\n",
    "metrics"
   ]
  },
  {
   "cell_type": "code",
   "execution_count": 15,
   "metadata": {},
   "outputs": [
    {
     "data": {
      "image/png": "[encoded data removed]",
      "text/plain": [
       "<Figure size 432x288 with 1 Axes>"
      ]
     },
     "metadata": {
      "needs_background": "light"
     },
     "output_type": "display_data"
    }
   ],
   "source": [
    "#저장된 accuracy 그래프로 출력\n",
    "metrics[['accuracy','val_accuracy']].plot()\n",
    "plt.show()"
   ]
  },
  {
   "cell_type": "code",
   "execution_count": 16,
   "metadata": {},
   "outputs": [
    {
     "data": {
      "image/png": "[encoded data removed]",
      "text/plain": [
       "<Figure size 432x288 with 1 Axes>"
      ]
     },
     "metadata": {
      "needs_background": "light"
     },
     "output_type": "display_data"
    }
   ],
   "source": [
    "#저장된 loss 그래프로 출력\n",
    "metrics[['loss','val_loss']].plot()\n",
    "plt.show()"
   ]
  },
  {
   "cell_type": "code",
   "execution_count": 17,
   "metadata": {},
   "outputs": [
    {
     "data": {
      "text/plain": [
       "[9.884654998779297, 0.08893709629774094]"
      ]
     },
     "execution_count": 17,
     "metadata": {},
     "output_type": "execute_result"
    }
   ],
   "source": [
    "#Model evaluation\n",
    "model.evaluate(X_test,y_test,verbose=0)"
   ]
  },
  {
   "cell_type": "code",
   "execution_count": 18,
   "metadata": {},
   "outputs": [
    {
     "name": "stdout",
     "output_type": "stream",
     "text": [
      "15/15 [==============================] - 8s 497ms/step\n"
     ]
    }
   ],
   "source": [
    "y_predictions=model.predict(X_test)\n",
    "predictions=y_predictions.argmax(axis=1)"
   ]
  },
  {
   "cell_type": "code",
   "execution_count": 19,
   "metadata": {},
   "outputs": [
    {
     "name": "stdout",
     "output_type": "stream",
     "text": [
      "              precision    recall  f1-score   support\n",
      "\n",
      "           0       0.00      0.00      0.00        21\n",
      "           1       0.00      0.00      0.00        41\n",
      "           2       0.00      0.00      0.00        40\n",
      "           3       0.00      0.00      0.00        41\n",
      "           4       0.00      0.00      0.00        41\n",
      "           5       0.00      0.00      0.00        42\n",
      "           6       0.00      0.00      0.00        41\n",
      "           7       0.09      1.00      0.16        41\n",
      "           8       0.00      0.00      0.00        41\n",
      "           9       0.00      0.00      0.00        41\n",
      "          10       0.00      0.00      0.00        71\n",
      "\n",
      "    accuracy                           0.09       461\n",
      "   macro avg       0.01      0.09      0.01       461\n",
      "weighted avg       0.01      0.09      0.01       461\n",
      "\n"
     ]
    },
    {
     "name": "stderr",
     "output_type": "stream",
     "text": [
      "C:\\Users\\HCIL\\anaconda3\\lib\\site-packages\\sklearn\\metrics\\_classification.py:1318: UndefinedMetricWarning: Precision and F-score are ill-defined and being set to 0.0 in labels with no predicted samples. Use `zero_division` parameter to control this behavior.\n",
      "  _warn_prf(average, modifier, msg_start, len(result))\n",
      "C:\\Users\\HCIL\\anaconda3\\lib\\site-packages\\sklearn\\metrics\\_classification.py:1318: UndefinedMetricWarning: Precision and F-score are ill-defined and being set to 0.0 in labels with no predicted samples. Use `zero_division` parameter to control this behavior.\n",
      "  _warn_prf(average, modifier, msg_start, len(result))\n",
      "C:\\Users\\HCIL\\anaconda3\\lib\\site-packages\\sklearn\\metrics\\_classification.py:1318: UndefinedMetricWarning: Precision and F-score are ill-defined and being set to 0.0 in labels with no predicted samples. Use `zero_division` parameter to control this behavior.\n",
      "  _warn_prf(average, modifier, msg_start, len(result))\n"
     ]
    }
   ],
   "source": [
    "#Report\n",
    "from sklearn.metrics import classification_report, confusion_matrix\n",
    "print(classification_report(y_test,predictions))"
   ]
  },
  {
   "cell_type": "code",
   "execution_count": 20,
   "metadata": {},
   "outputs": [
    {
     "data": {
      "image/png": "[encoded data removed]",
      "text/plain": [
       "<Figure size 864x864 with 2 Axes>"
      ]
     },
     "metadata": {
      "needs_background": "light"
     },
     "output_type": "display_data"
    }
   ],
   "source": [
    "#Confusion matrix로 표시\n",
    "plt.figure(figsize=(12,12))\n",
    "sns.heatmap(confusion_matrix(y_test,predictions))\n",
    "plt.show()"
   ]
  }
 ],
 "metadata": {
  "kernelspec": {
   "display_name": "Python 3 (ipykernel)",
   "language": "python",
   "name": "python3"
  },
  "language_info": {
   "codemirror_mode": {
    "name": "ipython",
    "version": 3
   },
   "file_extension": ".py",
   "mimetype": "text/x-python",
   "name": "python",
   "nbconvert_exporter": "python",
   "pygments_lexer": "ipython3",
   "version": "3.9.12"
  }
 },
 "nbformat": 4,
 "nbformat_minor": 4
}
