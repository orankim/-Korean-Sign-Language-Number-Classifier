{
 "cells": [
  {
   "cell_type": "markdown",
   "metadata": {},
   "source": [
    "## Import Packages"
   ]
  },
  {
   "cell_type": "code",
   "execution_count": 30,
   "metadata": {
    "scrolled": true
   },
   "outputs": [],
   "source": [
    "# import data processing and visualisation libraries\n",
    "import numpy as np\n",
    "import pandas as pd\n",
    "import seaborn as sns\n",
    "import matplotlib.pyplot as plt\n",
    "%matplotlib inline\n",
    "\n",
    "# import image processing libraries\n",
    "import cv2\n",
    "import skimage\n",
    "from skimage.transform import resize\n",
    "\n",
    "# import tensorflow and keras\n",
    "import tensorflow as tf\n",
    "from tensorflow import keras\n",
    "import os"
   ]
  },
  {
   "cell_type": "markdown",
   "metadata": {},
   "source": [
    "## Load Data"
   ]
  },
  {
   "cell_type": "code",
   "execution_count": 31,
   "metadata": {},
   "outputs": [],
   "source": [
    "#기본 Parameter 설정\n",
    "BATCHSIZE = 25\n",
    "imageSize = 60\n",
    "target_dims = (imageSize, imageSize, 3)\n",
    "num_classes = 11 #0~10까지 총 11개\n",
    "train_len = 1534 #총 파일 수\n",
    "\n",
    "train_dir = \"../input/full/\" #train 폴더 경로 지정(끝에 / 까지 쳐야함)"
   ]
  },
  {
   "cell_type": "code",
   "execution_count": null,
   "metadata": {},
   "outputs": [],
   "source": [
    "from tqdm import tqdm #진행상황바 표시해주는 패키지\n",
    "\n",
    "def get_data(folder, data_len): #data불러오는 함수\n",
    "    \n",
    "    X = np.empty((data_len, imageSize, imageSize, 3), dtype=np.float32)\n",
    "    y = np.empty((data_len,), dtype=np.int)\n",
    "    cnt = 0\n",
    "\n",
    "    for folderName in os.listdir(folder): #기존 ASL alphabet용 코드를 약간 변형시켜줌\n",
    "        if not folderName.startswith('.'):\n",
    "            if folderName in ['00']: #label이 0부터 시작하게 하려고 0 사진 다운 받아둠\n",
    "                label = 0\n",
    "            elif folderName in ['01']:\n",
    "                label = 1\n",
    "            elif folderName in ['02']:\n",
    "                label = 2\n",
    "            elif folderName in ['03']:\n",
    "                label = 3\n",
    "            elif folderName in ['04']:\n",
    "                label = 4\n",
    "            elif folderName in ['05']:\n",
    "                label = 5\n",
    "            elif folderName in ['06']:\n",
    "                label = 6\n",
    "            elif folderName in ['07']:\n",
    "                label = 7\n",
    "            elif folderName in ['08']:\n",
    "                label = 8\n",
    "            elif folderName in ['09']:\n",
    "                label = 9\n",
    "            elif folderName in ['10']:\n",
    "                label = 10\n",
    "            for image_filename in tqdm(os.listdir(folder + folderName)):\n",
    "              img_file = cv2.imread(folder + folderName + '/' + image_filename)\n",
    "              if img_file is not None:\n",
    "                img_file = skimage.transform.resize(img_file, (imageSize, imageSize, 3)) #image 사이즈 조정\n",
    "                img_arr = np.asarray(img_file)\n",
    "                \n",
    "                X[cnt] = img_arr\n",
    "                y[cnt] = label\n",
    "                cnt += 1\n",
    "\n",
    "    return X,y"
   ]
  },
  {
   "cell_type": "code",
   "execution_count": null,
   "metadata": {},
   "outputs": [],
   "source": [
    "X_train, y_train = get_data(train_dir,train_len)"
   ]
  },
  {
   "cell_type": "code",
   "execution_count": 32,
   "metadata": {},
   "outputs": [],
   "source": [
    "#pickle 파일 load\n",
    "\n",
    "import pickle\n",
    "\n",
    "with open(\"../pickle/X_train_220602_imagesize_60_full\",\"rb\") as file :\n",
    "    X_train=pickle.load(file)\n",
    "    \n",
    "with open(\"../pickle/y_train_220602_imagesize_60_full\",\"rb\") as file2 :\n",
    "    y_train=pickle.load(file2)"
   ]
  },
  {
   "cell_type": "code",
   "execution_count": 33,
   "metadata": {},
   "outputs": [
    {
     "name": "stdout",
     "output_type": "stream",
     "text": [
      "The shape of X_train is :  (1534, 60, 60, 3)\n",
      "The shape of y_train is :  (1534,)\n",
      "The shape of one image is :  (60, 60, 3)\n"
     ]
    }
   ],
   "source": [
    "#data 불러온 결과 shape출력(데이터수, imageSize, imageSize, 3) : get_data함수에서 설정해준 항목\n",
    "print(\"The shape of X_train is : \", X_train.shape)\n",
    "print(\"The shape of y_train is : \", y_train.shape)\n",
    "print(\"The shape of one image is : \", X_train[0].shape)"
   ]
  },
  {
   "cell_type": "code",
   "execution_count": null,
   "metadata": {},
   "outputs": [],
   "source": [
    "#혹시 몰라 나중에 쓸 수도 있어 pickle파일 만들어봄(건너뛰어도 무관)\n",
    "import pickle\n",
    "\n",
    "X_train_220602_imagesize_60_full=X_train\n",
    "y_train_220602_imagesize_60_full=y_train\n",
    "\n",
    "\n",
    "with open(\"../pickle/X_train_220602_imagesize_60_full\",\"wb\") as file :\n",
    "    pickle.dump(X_train_220602_imagesize_60_full,file)\n",
    "with open(\"../pickle/y_train_220602_imagesize_60_full\",\"wb\") as file :\n",
    "    pickle.dump(y_train_220602_imagesize_60_full,file)\n",
    "    "
   ]
  },
  {
   "cell_type": "code",
   "execution_count": 34,
   "metadata": {},
   "outputs": [
    {
     "data": {
      "image/png": "[encoded data removed]",
      "text/plain": [
       "<Figure size 432x288 with 1 Axes>"
      ]
     },
     "metadata": {
      "needs_background": "light"
     },
     "output_type": "display_data"
    }
   ],
   "source": [
    "#예시로 이미지 출력\n",
    "plt.imshow(X_train[0])\n",
    "plt.show()"
   ]
  },
  {
   "cell_type": "code",
   "execution_count": 35,
   "metadata": {},
   "outputs": [],
   "source": [
    "#Making copies of original data\n",
    "X_data = X_train\n",
    "y_data = y_train"
   ]
  },
  {
   "cell_type": "code",
   "execution_count": 36,
   "metadata": {},
   "outputs": [],
   "source": [
    "#있는 데이터로 train, test split해주는 함수, test_size에서 비율 조정 가능\n",
    "from sklearn.model_selection import train_test_split\n",
    "X_train, X_test, y_train, y_test = train_test_split(X_data, y_data, test_size=0.3,random_state=42,stratify=y_data)"
   ]
  },
  {
   "cell_type": "code",
   "execution_count": 37,
   "metadata": {},
   "outputs": [
    {
     "name": "stdout",
     "output_type": "stream",
     "text": [
      "(1073, 60, 60, 3)\n",
      "(1073,)\n",
      "(461, 60, 60, 3)\n",
      "(461,)\n"
     ]
    }
   ],
   "source": [
    "#train,test split된 것 출력해서 확인\n",
    "print(X_train.shape)\n",
    "print(y_train.shape)\n",
    "print(X_test.shape)\n",
    "print(y_test.shape)"
   ]
  },
  {
   "cell_type": "markdown",
   "metadata": {},
   "source": [
    "## Modeling"
   ]
  },
  {
   "cell_type": "code",
   "execution_count": 38,
   "metadata": {},
   "outputs": [],
   "source": [
    "from tensorflow.keras.models import Sequential\n",
    "from tensorflow.keras.layers import Conv2D, MaxPooling2D, Activation, Dense, Flatten\n",
    "from tensorflow.keras.applications import VGG16"
   ]
  },
  {
   "cell_type": "code",
   "execution_count": 39,
   "metadata": {},
   "outputs": [],
   "source": [
    "VGG16_transfer_model = VGG16(weights='imagenet', include_top=False, input_shape=target_dims)"
   ]
  },
  {
   "cell_type": "code",
   "execution_count": 40,
   "metadata": {},
   "outputs": [],
   "source": [
    "VGG16_transfer_model.trainable=False"
   ]
  },
  {
   "cell_type": "code",
   "execution_count": 57,
   "metadata": {},
   "outputs": [],
   "source": [
    "#Early Stopping함수를 이용해서 patience수가 넘어가면 자동으로 Early Stopping되게 함\n",
    "from tensorflow.keras.callbacks import EarlyStopping\n",
    "early_stop = EarlyStopping(monitor='val_loss',patience=3)"
   ]
  },
  {
   "cell_type": "code",
   "execution_count": 42,
   "metadata": {},
   "outputs": [],
   "source": [
    "VGG16_model_tr = Sequential([\n",
    "    VGG16_transfer_model, \n",
    "    Flatten(), \n",
    "    Dense(64, activation='relu'), \n",
    "    Dense(11, activation='softmax')\n",
    "])"
   ]
  },
  {
   "cell_type": "code",
   "execution_count": 43,
   "metadata": {},
   "outputs": [],
   "source": [
    "#Compiling\n",
    "VGG16_model_tr.compile(optimizer='adam',\n",
    "              loss='sparse_categorical_crossentropy',\n",
    "              metrics=['accuracy'])"
   ]
  },
  {
   "cell_type": "code",
   "execution_count": 58,
   "metadata": {},
   "outputs": [
    {
     "name": "stdout",
     "output_type": "stream",
     "text": [
      "Epoch 1/100\n",
      "43/43 - 40s - loss: 0.1285 - accuracy: 0.9776 - val_loss: 0.4451 - val_accuracy: 0.8959 - 40s/epoch - 938ms/step\n",
      "Epoch 2/100\n",
      "43/43 - 43s - loss: 0.1261 - accuracy: 0.9804 - val_loss: 0.4232 - val_accuracy: 0.9067 - 43s/epoch - 997ms/step\n",
      "Epoch 3/100\n",
      "43/43 - 43s - loss: 0.1242 - accuracy: 0.9776 - val_loss: 0.4314 - val_accuracy: 0.9024 - 43s/epoch - 989ms/step\n",
      "Epoch 4/100\n",
      "43/43 - 42s - loss: 0.1177 - accuracy: 0.9870 - val_loss: 0.4391 - val_accuracy: 0.8959 - 42s/epoch - 982ms/step\n",
      "Epoch 5/100\n",
      "43/43 - 43s - loss: 0.1095 - accuracy: 0.9842 - val_loss: 0.4154 - val_accuracy: 0.8915 - 43s/epoch - 1s/step\n",
      "Epoch 6/100\n",
      "43/43 - 43s - loss: 0.1129 - accuracy: 0.9851 - val_loss: 0.4231 - val_accuracy: 0.9111 - 43s/epoch - 994ms/step\n",
      "Epoch 7/100\n",
      "43/43 - 43s - loss: 0.1043 - accuracy: 0.9870 - val_loss: 0.4207 - val_accuracy: 0.8937 - 43s/epoch - 998ms/step\n",
      "Epoch 8/100\n",
      "43/43 - 43s - loss: 0.1013 - accuracy: 0.9897 - val_loss: 0.4406 - val_accuracy: 0.8937 - 43s/epoch - 992ms/step\n"
     ]
    },
    {
     "data": {
      "text/plain": [
       "<keras.callbacks.History at 0x28695ff1880>"
      ]
     },
     "execution_count": 58,
     "metadata": {},
     "output_type": "execute_result"
    }
   ],
   "source": [
    "#Model fitting\n",
    "VGG16_model_tr.fit(X_train, y_train,\n",
    "          epochs=100,\n",
    "          batch_size=BATCHSIZE,\n",
    "          verbose=2,\n",
    "          validation_data=(X_test, y_test),\n",
    "          callbacks=[early_stop])"
   ]
  },
  {
   "cell_type": "markdown",
   "metadata": {},
   "source": [
    "## Result"
   ]
  },
  {
   "cell_type": "code",
   "execution_count": 46,
   "metadata": {},
   "outputs": [
    {
     "name": "stdout",
     "output_type": "stream",
     "text": [
      "The model metrics are\n"
     ]
    },
    {
     "data": {
      "text/html": [
       "<div>\n",
       "<style scoped>\n",
       "    .dataframe tbody tr th:only-of-type {\n",
       "        vertical-align: middle;\n",
       "    }\n",
       "\n",
       "    .dataframe tbody tr th {\n",
       "        vertical-align: top;\n",
       "    }\n",
       "\n",
       "    .dataframe thead th {\n",
       "        text-align: right;\n",
       "    }\n",
       "</style>\n",
       "<table border=\"1\" class=\"dataframe\">\n",
       "  <thead>\n",
       "    <tr style=\"text-align: right;\">\n",
       "      <th></th>\n",
       "      <th>loss</th>\n",
       "      <th>accuracy</th>\n",
       "      <th>val_loss</th>\n",
       "      <th>val_accuracy</th>\n",
       "    </tr>\n",
       "  </thead>\n",
       "  <tbody>\n",
       "    <tr>\n",
       "      <th>0</th>\n",
       "      <td>2.293053</td>\n",
       "      <td>0.188257</td>\n",
       "      <td>2.094246</td>\n",
       "      <td>0.281996</td>\n",
       "    </tr>\n",
       "    <tr>\n",
       "      <th>1</th>\n",
       "      <td>1.948519</td>\n",
       "      <td>0.384902</td>\n",
       "      <td>1.796698</td>\n",
       "      <td>0.520607</td>\n",
       "    </tr>\n",
       "    <tr>\n",
       "      <th>2</th>\n",
       "      <td>1.662193</td>\n",
       "      <td>0.539609</td>\n",
       "      <td>1.583191</td>\n",
       "      <td>0.553145</td>\n",
       "    </tr>\n",
       "    <tr>\n",
       "      <th>3</th>\n",
       "      <td>1.435421</td>\n",
       "      <td>0.597390</td>\n",
       "      <td>1.392094</td>\n",
       "      <td>0.587852</td>\n",
       "    </tr>\n",
       "    <tr>\n",
       "      <th>4</th>\n",
       "      <td>1.250703</td>\n",
       "      <td>0.655172</td>\n",
       "      <td>1.266284</td>\n",
       "      <td>0.631236</td>\n",
       "    </tr>\n",
       "    <tr>\n",
       "      <th>5</th>\n",
       "      <td>1.104049</td>\n",
       "      <td>0.714818</td>\n",
       "      <td>1.157360</td>\n",
       "      <td>0.659436</td>\n",
       "    </tr>\n",
       "    <tr>\n",
       "      <th>6</th>\n",
       "      <td>0.994644</td>\n",
       "      <td>0.726002</td>\n",
       "      <td>1.104979</td>\n",
       "      <td>0.687636</td>\n",
       "    </tr>\n",
       "    <tr>\n",
       "      <th>7</th>\n",
       "      <td>0.903687</td>\n",
       "      <td>0.775396</td>\n",
       "      <td>1.010550</td>\n",
       "      <td>0.674620</td>\n",
       "    </tr>\n",
       "    <tr>\n",
       "      <th>8</th>\n",
       "      <td>0.824749</td>\n",
       "      <td>0.778192</td>\n",
       "      <td>0.970844</td>\n",
       "      <td>0.702820</td>\n",
       "    </tr>\n",
       "    <tr>\n",
       "      <th>9</th>\n",
       "      <td>0.766416</td>\n",
       "      <td>0.805219</td>\n",
       "      <td>0.889363</td>\n",
       "      <td>0.735358</td>\n",
       "    </tr>\n",
       "    <tr>\n",
       "      <th>10</th>\n",
       "      <td>0.694245</td>\n",
       "      <td>0.839702</td>\n",
       "      <td>0.841954</td>\n",
       "      <td>0.770065</td>\n",
       "    </tr>\n",
       "    <tr>\n",
       "      <th>11</th>\n",
       "      <td>0.652937</td>\n",
       "      <td>0.841566</td>\n",
       "      <td>0.808892</td>\n",
       "      <td>0.763557</td>\n",
       "    </tr>\n",
       "    <tr>\n",
       "      <th>12</th>\n",
       "      <td>0.601977</td>\n",
       "      <td>0.862069</td>\n",
       "      <td>0.776801</td>\n",
       "      <td>0.778742</td>\n",
       "    </tr>\n",
       "    <tr>\n",
       "      <th>13</th>\n",
       "      <td>0.565277</td>\n",
       "      <td>0.869525</td>\n",
       "      <td>0.761202</td>\n",
       "      <td>0.746204</td>\n",
       "    </tr>\n",
       "    <tr>\n",
       "      <th>14</th>\n",
       "      <td>0.535055</td>\n",
       "      <td>0.873253</td>\n",
       "      <td>0.722886</td>\n",
       "      <td>0.789588</td>\n",
       "    </tr>\n",
       "    <tr>\n",
       "      <th>15</th>\n",
       "      <td>0.502616</td>\n",
       "      <td>0.890960</td>\n",
       "      <td>0.697644</td>\n",
       "      <td>0.798265</td>\n",
       "    </tr>\n",
       "    <tr>\n",
       "      <th>16</th>\n",
       "      <td>0.476698</td>\n",
       "      <td>0.891892</td>\n",
       "      <td>0.689673</td>\n",
       "      <td>0.796095</td>\n",
       "    </tr>\n",
       "    <tr>\n",
       "      <th>17</th>\n",
       "      <td>0.450193</td>\n",
       "      <td>0.892824</td>\n",
       "      <td>0.672275</td>\n",
       "      <td>0.800434</td>\n",
       "    </tr>\n",
       "    <tr>\n",
       "      <th>18</th>\n",
       "      <td>0.430028</td>\n",
       "      <td>0.904939</td>\n",
       "      <td>0.655329</td>\n",
       "      <td>0.806941</td>\n",
       "    </tr>\n",
       "    <tr>\n",
       "      <th>19</th>\n",
       "      <td>0.410728</td>\n",
       "      <td>0.903076</td>\n",
       "      <td>0.621601</td>\n",
       "      <td>0.809111</td>\n",
       "    </tr>\n",
       "    <tr>\n",
       "      <th>20</th>\n",
       "      <td>0.390192</td>\n",
       "      <td>0.905871</td>\n",
       "      <td>0.613884</td>\n",
       "      <td>0.819957</td>\n",
       "    </tr>\n",
       "    <tr>\n",
       "      <th>21</th>\n",
       "      <td>0.370353</td>\n",
       "      <td>0.915191</td>\n",
       "      <td>0.609592</td>\n",
       "      <td>0.817787</td>\n",
       "    </tr>\n",
       "    <tr>\n",
       "      <th>22</th>\n",
       "      <td>0.358552</td>\n",
       "      <td>0.923579</td>\n",
       "      <td>0.588493</td>\n",
       "      <td>0.832972</td>\n",
       "    </tr>\n",
       "    <tr>\n",
       "      <th>23</th>\n",
       "      <td>0.335751</td>\n",
       "      <td>0.923579</td>\n",
       "      <td>0.570129</td>\n",
       "      <td>0.826464</td>\n",
       "    </tr>\n",
       "    <tr>\n",
       "      <th>24</th>\n",
       "      <td>0.327044</td>\n",
       "      <td>0.930103</td>\n",
       "      <td>0.559218</td>\n",
       "      <td>0.839479</td>\n",
       "    </tr>\n",
       "    <tr>\n",
       "      <th>25</th>\n",
       "      <td>0.317208</td>\n",
       "      <td>0.936626</td>\n",
       "      <td>0.550216</td>\n",
       "      <td>0.841649</td>\n",
       "    </tr>\n",
       "    <tr>\n",
       "      <th>26</th>\n",
       "      <td>0.296470</td>\n",
       "      <td>0.932898</td>\n",
       "      <td>0.551175</td>\n",
       "      <td>0.863341</td>\n",
       "    </tr>\n",
       "    <tr>\n",
       "      <th>27</th>\n",
       "      <td>0.287309</td>\n",
       "      <td>0.939422</td>\n",
       "      <td>0.536271</td>\n",
       "      <td>0.832972</td>\n",
       "    </tr>\n",
       "    <tr>\n",
       "      <th>28</th>\n",
       "      <td>0.277407</td>\n",
       "      <td>0.945014</td>\n",
       "      <td>0.538061</td>\n",
       "      <td>0.865510</td>\n",
       "    </tr>\n",
       "    <tr>\n",
       "      <th>29</th>\n",
       "      <td>0.264350</td>\n",
       "      <td>0.947810</td>\n",
       "      <td>0.525657</td>\n",
       "      <td>0.852495</td>\n",
       "    </tr>\n",
       "    <tr>\n",
       "      <th>30</th>\n",
       "      <td>0.253785</td>\n",
       "      <td>0.952470</td>\n",
       "      <td>0.523732</td>\n",
       "      <td>0.863341</td>\n",
       "    </tr>\n",
       "    <tr>\n",
       "      <th>31</th>\n",
       "      <td>0.245594</td>\n",
       "      <td>0.949674</td>\n",
       "      <td>0.508888</td>\n",
       "      <td>0.856833</td>\n",
       "    </tr>\n",
       "    <tr>\n",
       "      <th>32</th>\n",
       "      <td>0.234526</td>\n",
       "      <td>0.957130</td>\n",
       "      <td>0.501842</td>\n",
       "      <td>0.876356</td>\n",
       "    </tr>\n",
       "    <tr>\n",
       "      <th>33</th>\n",
       "      <td>0.231224</td>\n",
       "      <td>0.952470</td>\n",
       "      <td>0.498284</td>\n",
       "      <td>0.863341</td>\n",
       "    </tr>\n",
       "    <tr>\n",
       "      <th>34</th>\n",
       "      <td>0.228483</td>\n",
       "      <td>0.955266</td>\n",
       "      <td>0.484571</td>\n",
       "      <td>0.876356</td>\n",
       "    </tr>\n",
       "    <tr>\n",
       "      <th>35</th>\n",
       "      <td>0.210332</td>\n",
       "      <td>0.958993</td>\n",
       "      <td>0.481868</td>\n",
       "      <td>0.872017</td>\n",
       "    </tr>\n",
       "    <tr>\n",
       "      <th>36</th>\n",
       "      <td>0.203482</td>\n",
       "      <td>0.961789</td>\n",
       "      <td>0.480254</td>\n",
       "      <td>0.876356</td>\n",
       "    </tr>\n",
       "    <tr>\n",
       "      <th>37</th>\n",
       "      <td>0.207294</td>\n",
       "      <td>0.961789</td>\n",
       "      <td>0.474431</td>\n",
       "      <td>0.867679</td>\n",
       "    </tr>\n",
       "    <tr>\n",
       "      <th>38</th>\n",
       "      <td>0.189008</td>\n",
       "      <td>0.965517</td>\n",
       "      <td>0.470087</td>\n",
       "      <td>0.876356</td>\n",
       "    </tr>\n",
       "    <tr>\n",
       "      <th>39</th>\n",
       "      <td>0.182153</td>\n",
       "      <td>0.970177</td>\n",
       "      <td>0.450589</td>\n",
       "      <td>0.869848</td>\n",
       "    </tr>\n",
       "    <tr>\n",
       "      <th>40</th>\n",
       "      <td>0.176821</td>\n",
       "      <td>0.974837</td>\n",
       "      <td>0.458845</td>\n",
       "      <td>0.878525</td>\n",
       "    </tr>\n",
       "    <tr>\n",
       "      <th>41</th>\n",
       "      <td>0.170769</td>\n",
       "      <td>0.975769</td>\n",
       "      <td>0.458330</td>\n",
       "      <td>0.874187</td>\n",
       "    </tr>\n",
       "    <tr>\n",
       "      <th>42</th>\n",
       "      <td>0.167144</td>\n",
       "      <td>0.969245</td>\n",
       "      <td>0.452056</td>\n",
       "      <td>0.882863</td>\n",
       "    </tr>\n",
       "  </tbody>\n",
       "</table>\n",
       "</div>"
      ],
      "text/plain": [
       "        loss  accuracy  val_loss  val_accuracy\n",
       "0   2.293053  0.188257  2.094246      0.281996\n",
       "1   1.948519  0.384902  1.796698      0.520607\n",
       "2   1.662193  0.539609  1.583191      0.553145\n",
       "3   1.435421  0.597390  1.392094      0.587852\n",
       "4   1.250703  0.655172  1.266284      0.631236\n",
       "5   1.104049  0.714818  1.157360      0.659436\n",
       "6   0.994644  0.726002  1.104979      0.687636\n",
       "7   0.903687  0.775396  1.010550      0.674620\n",
       "8   0.824749  0.778192  0.970844      0.702820\n",
       "9   0.766416  0.805219  0.889363      0.735358\n",
       "10  0.694245  0.839702  0.841954      0.770065\n",
       "11  0.652937  0.841566  0.808892      0.763557\n",
       "12  0.601977  0.862069  0.776801      0.778742\n",
       "13  0.565277  0.869525  0.761202      0.746204\n",
       "14  0.535055  0.873253  0.722886      0.789588\n",
       "15  0.502616  0.890960  0.697644      0.798265\n",
       "16  0.476698  0.891892  0.689673      0.796095\n",
       "17  0.450193  0.892824  0.672275      0.800434\n",
       "18  0.430028  0.904939  0.655329      0.806941\n",
       "19  0.410728  0.903076  0.621601      0.809111\n",
       "20  0.390192  0.905871  0.613884      0.819957\n",
       "21  0.370353  0.915191  0.609592      0.817787\n",
       "22  0.358552  0.923579  0.588493      0.832972\n",
       "23  0.335751  0.923579  0.570129      0.826464\n",
       "24  0.327044  0.930103  0.559218      0.839479\n",
       "25  0.317208  0.936626  0.550216      0.841649\n",
       "26  0.296470  0.932898  0.551175      0.863341\n",
       "27  0.287309  0.939422  0.536271      0.832972\n",
       "28  0.277407  0.945014  0.538061      0.865510\n",
       "29  0.264350  0.947810  0.525657      0.852495\n",
       "30  0.253785  0.952470  0.523732      0.863341\n",
       "31  0.245594  0.949674  0.508888      0.856833\n",
       "32  0.234526  0.957130  0.501842      0.876356\n",
       "33  0.231224  0.952470  0.498284      0.863341\n",
       "34  0.228483  0.955266  0.484571      0.876356\n",
       "35  0.210332  0.958993  0.481868      0.872017\n",
       "36  0.203482  0.961789  0.480254      0.876356\n",
       "37  0.207294  0.961789  0.474431      0.867679\n",
       "38  0.189008  0.965517  0.470087      0.876356\n",
       "39  0.182153  0.970177  0.450589      0.869848\n",
       "40  0.176821  0.974837  0.458845      0.878525\n",
       "41  0.170769  0.975769  0.458330      0.874187\n",
       "42  0.167144  0.969245  0.452056      0.882863"
      ]
     },
     "execution_count": 46,
     "metadata": {},
     "output_type": "execute_result"
    }
   ],
   "source": [
    "#Model metrics\n",
    "metrics = pd.DataFrame(VGG16_model_tr.history.history)\n",
    "print(\"The model metrics are\")\n",
    "metrics"
   ]
  },
  {
   "cell_type": "code",
   "execution_count": 47,
   "metadata": {},
   "outputs": [
    {
     "data": {
      "image/png": "[encoded data removed]",
      "text/plain": [
       "<Figure size 432x288 with 1 Axes>"
      ]
     },
     "metadata": {
      "needs_background": "light"
     },
     "output_type": "display_data"
    }
   ],
   "source": [
    "#저장된 accuracy 그래프로 출력\n",
    "metrics[['accuracy','val_accuracy']].plot()\n",
    "plt.show()"
   ]
  },
  {
   "cell_type": "code",
   "execution_count": 48,
   "metadata": {},
   "outputs": [
    {
     "data": {
      "image/png": "[encoded data removed]",
      "text/plain": [
       "<Figure size 432x288 with 1 Axes>"
      ]
     },
     "metadata": {
      "needs_background": "light"
     },
     "output_type": "display_data"
    }
   ],
   "source": [
    "#저장된 loss 그래프로 출력\n",
    "metrics[['loss','val_loss']].plot()\n",
    "plt.show()"
   ]
  },
  {
   "cell_type": "code",
   "execution_count": 50,
   "metadata": {},
   "outputs": [
    {
     "data": {
      "text/plain": [
       "[0.45205551385879517, 0.8828633427619934]"
      ]
     },
     "execution_count": 50,
     "metadata": {},
     "output_type": "execute_result"
    }
   ],
   "source": [
    "#Model evaluation\n",
    "VGG16_model_tr.evaluate(X_test,y_test,verbose=0)"
   ]
  },
  {
   "cell_type": "code",
   "execution_count": 52,
   "metadata": {},
   "outputs": [
    {
     "name": "stdout",
     "output_type": "stream",
     "text": [
      "15/15 [==============================] - 8s 506ms/step\n"
     ]
    }
   ],
   "source": [
    "y_predictions=VGG16_model_tr.predict(X_test)\n",
    "predictions=y_predictions.argmax(axis=1)"
   ]
  },
  {
   "cell_type": "code",
   "execution_count": 53,
   "metadata": {},
   "outputs": [
    {
     "name": "stdout",
     "output_type": "stream",
     "text": [
      "              precision    recall  f1-score   support\n",
      "\n",
      "           0       1.00      1.00      1.00        21\n",
      "           1       0.86      0.88      0.87        41\n",
      "           2       0.76      0.93      0.83        40\n",
      "           3       0.80      0.88      0.84        41\n",
      "           4       0.92      0.85      0.89        41\n",
      "           5       1.00      0.93      0.96        42\n",
      "           6       0.85      0.85      0.85        41\n",
      "           7       0.72      0.71      0.72        41\n",
      "           8       0.91      0.95      0.93        41\n",
      "           9       0.92      0.88      0.90        41\n",
      "          10       1.00      0.90      0.95        71\n",
      "\n",
      "    accuracy                           0.88       461\n",
      "   macro avg       0.89      0.89      0.88       461\n",
      "weighted avg       0.89      0.88      0.88       461\n",
      "\n"
     ]
    }
   ],
   "source": [
    "#Report\n",
    "from sklearn.metrics import classification_report, confusion_matrix\n",
    "print(classification_report(y_test,predictions))"
   ]
  },
  {
   "cell_type": "code",
   "execution_count": 54,
   "metadata": {},
   "outputs": [
    {
     "data": {
      "image/png": "[encoded data removed]",
      "text/plain": [
       "<Figure size 864x864 with 2 Axes>"
      ]
     },
     "metadata": {
      "needs_background": "light"
     },
     "output_type": "display_data"
    }
   ],
   "source": [
    "#Confusion matrix로 표시\n",
    "plt.figure(figsize=(12,12))\n",
    "sns.heatmap(confusion_matrix(y_test,predictions))\n",
    "plt.show()"
   ]
  }
 ],
 "metadata": {
  "kernelspec": {
   "display_name": "Python 3 (ipykernel)",
   "language": "python",
   "name": "python3"
  },
  "language_info": {
   "codemirror_mode": {
    "name": "ipython",
    "version": 3
   },
   "file_extension": ".py",
   "mimetype": "text/x-python",
   "name": "python",
   "nbconvert_exporter": "python",
   "pygments_lexer": "ipython3",
   "version": "3.9.12"
  }
 },
 "nbformat": 4,
 "nbformat_minor": 4
}
