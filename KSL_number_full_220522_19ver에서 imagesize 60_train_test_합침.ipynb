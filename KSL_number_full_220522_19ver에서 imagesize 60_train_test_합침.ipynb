{
 "cells": [
  {
   "cell_type": "markdown",
   "metadata": {},
   "source": [
    "## Import Packages"
   ]
  },
  {
   "cell_type": "code",
   "execution_count": 30,
   "metadata": {
    "scrolled": true
   },
   "outputs": [],
   "source": [
    "# import data processing and visualisation libraries\n",
    "import numpy as np\n",
    "import pandas as pd\n",
    "import seaborn as sns\n",
    "import matplotlib.pyplot as plt\n",
    "%matplotlib inline\n",
    "\n",
    "# import image processing libraries\n",
    "import cv2\n",
    "import skimage\n",
    "from skimage.transform import resize\n",
    "\n",
    "# import tensorflow and keras\n",
    "import tensorflow as tf\n",
    "from tensorflow import keras\n",
    "import os"
   ]
  },
  {
   "cell_type": "markdown",
   "metadata": {},
   "source": [
    "## Load Data"
   ]
  },
  {
   "cell_type": "code",
   "execution_count": 31,
   "metadata": {},
   "outputs": [],
   "source": [
    "#기본 Parameter 설정\n",
    "BATCHSIZE = 64\n",
    "imageSize = 64\n",
    "target_dims = (imageSize, imageSize, 3)\n",
    "num_classes = 11 #0~10까지 총 11개\n",
    "train_len = 1534 #총 파일 수\n",
    "\n",
    "train_dir = \"../input/full/\" #train 폴더 경로 지정(끝에 / 까지 쳐야함)"
   ]
  },
  {
   "cell_type": "code",
   "execution_count": 32,
   "metadata": {},
   "outputs": [],
   "source": [
    "from tqdm import tqdm #진행상황바 표시해주는 패키지\n",
    "\n",
    "def get_data(folder, data_len): #data불러오는 함수\n",
    "    \n",
    "    X = np.empty((data_len, imageSize, imageSize, 3), dtype=np.float32)\n",
    "    y = np.empty((data_len,), dtype=np.int)\n",
    "    cnt = 0\n",
    "\n",
    "    for folderName in os.listdir(folder): #기존 ASL alphabet용 코드를 약간 변형시켜줌\n",
    "        if not folderName.startswith('.'):\n",
    "            if folderName in ['00']: #label이 0부터 시작하게 하려고 0 사진 다운 받아둠\n",
    "                label = 0\n",
    "            elif folderName in ['01']:\n",
    "                label = 1\n",
    "            elif folderName in ['02']:\n",
    "                label = 2\n",
    "            elif folderName in ['03']:\n",
    "                label = 3\n",
    "            elif folderName in ['04']:\n",
    "                label = 4\n",
    "            elif folderName in ['05']:\n",
    "                label = 5\n",
    "            elif folderName in ['06']:\n",
    "                label = 6\n",
    "            elif folderName in ['07']:\n",
    "                label = 7\n",
    "            elif folderName in ['08']:\n",
    "                label = 8\n",
    "            elif folderName in ['09']:\n",
    "                label = 9\n",
    "            elif folderName in ['10']:\n",
    "                label = 10\n",
    "            for image_filename in tqdm(os.listdir(folder + folderName)):\n",
    "              img_file = cv2.imread(folder + folderName + '/' + image_filename)\n",
    "              if img_file is not None:\n",
    "                img_file = skimage.transform.resize(img_file, (imageSize, imageSize, 3)) #image 사이즈 조정\n",
    "                img_arr = np.asarray(img_file)\n",
    "                \n",
    "                X[cnt] = img_arr\n",
    "                y[cnt] = label\n",
    "                cnt += 1\n",
    "\n",
    "    return X,y"
   ]
  },
  {
   "cell_type": "code",
   "execution_count": 33,
   "metadata": {},
   "outputs": [
    {
     "name": "stderr",
     "output_type": "stream",
     "text": [
      "C:\\Users\\HCIL\\AppData\\Local\\Temp\\ipykernel_12780\\50856798.py:6: DeprecationWarning: `np.int` is a deprecated alias for the builtin `int`. To silence this warning, use `int` by itself. Doing this will not modify any behavior and is safe. When replacing `np.int`, you may wish to use e.g. `np.int64` or `np.int32` to specify the precision. If you wish to review your current use, check the release note link for additional information.\n",
      "Deprecated in NumPy 1.20; for more details and guidance: https://numpy.org/devdocs/release/1.20.0-notes.html#deprecations\n",
      "  y = np.empty((data_len,), dtype=np.int)\n",
      "100%|█████████████████████████████████████████████████████████████████████████████████| 70/70 [00:00<00:00, 139.23it/s]\n",
      "100%|████████████████████████████████████████████████████████████████████████████████| 135/135 [28:18<00:00, 12.58s/it]\n",
      "100%|████████████████████████████████████████████████████████████████████████████████| 135/135 [27:40<00:00, 12.30s/it]\n",
      "100%|████████████████████████████████████████████████████████████████████████████████| 135/135 [41:41<00:00, 18.53s/it]\n",
      "100%|████████████████████████████████████████████████████████████████████████████████| 136/136 [51:36<00:00, 22.77s/it]\n",
      "100%|████████████████████████████████████████████████████████████████████████████████| 139/139 [32:22<00:00, 13.98s/it]\n",
      "100%|████████████████████████████████████████████████████████████████████████████████| 137/137 [28:26<00:00, 12.46s/it]\n",
      "100%|████████████████████████████████████████████████████████████████████████████████| 137/137 [28:17<00:00, 12.39s/it]\n",
      "100%|████████████████████████████████████████████████████████████████████████████████| 138/138 [27:26<00:00, 11.93s/it]\n",
      "100%|████████████████████████████████████████████████████████████████████████████████| 136/136 [28:30<00:00, 12.57s/it]\n",
      "100%|████████████████████████████████████████████████████████████████████████████████| 236/236 [56:20<00:00, 14.33s/it]\n"
     ]
    }
   ],
   "source": [
    "X_train, y_train = get_data(train_dir,train_len)"
   ]
  },
  {
   "cell_type": "code",
   "execution_count": null,
   "metadata": {},
   "outputs": [],
   "source": [
    "#pickle 파일 load\n",
    "'''\n",
    "import pickle\n",
    "\n",
    "with open(\"./pickle/X_train_220519\",\"rb\") as file :\n",
    "    X_train=pickle.load(file)\n",
    "    \n",
    "with open(\"./pickle/y_train_220519\",\"rb\") as file2 :\n",
    "    y_train=pickle.load(file2)"
   ]
  },
  {
   "cell_type": "code",
   "execution_count": 9,
   "metadata": {},
   "outputs": [
    {
     "name": "stdout",
     "output_type": "stream",
     "text": [
      "The shape of X_train is :  (1534, 60, 60, 3)\n",
      "The shape of y_train is :  (1534,)\n",
      "The shape of one image is :  (60, 60, 3)\n"
     ]
    }
   ],
   "source": [
    "#data 불러온 결과 shape출력(데이터수, imageSize, imageSize, 3) : get_data함수에서 설정해준 항목\n",
    "print(\"The shape of X_train is : \", X_train.shape)\n",
    "print(\"The shape of y_train is : \", y_train.shape)\n",
    "print(\"The shape of one image is : \", X_train[0].shape)"
   ]
  },
  {
   "cell_type": "code",
   "execution_count": 11,
   "metadata": {},
   "outputs": [],
   "source": [
    "#혹시 몰라 나중에 쓸 수도 있어 pickle파일 만들어봄(건너뛰어도 무관)\n",
    "import pickle\n",
    "\n",
    "X_train_220602_imagesize_60_full=X_train\n",
    "y_train_220602_imagesize_60_full=y_train\n",
    "\n",
    "\n",
    "with open(\"../pickle/X_train_220604_imagesize_64_full\",\"wb\") as file :\n",
    "    pickle.dump(X_train_220602_imagesize_60_full,file)\n",
    "with open(\"../pickle/y_train_220604_imagesize_64_full\",\"wb\") as file :\n",
    "    pickle.dump(y_train_220602_imagesize_60_full,file)\n",
    "    "
   ]
  },
  {
   "cell_type": "code",
   "execution_count": 12,
   "metadata": {},
   "outputs": [
    {
     "data": {
      "image/png": "[encoded data removed]",
      "text/plain": [
       "<Figure size 432x288 with 1 Axes>"
      ]
     },
     "metadata": {
      "needs_background": "light"
     },
     "output_type": "display_data"
    }
   ],
   "source": [
    "#예시로 이미지 출력\n",
    "plt.imshow(X_train[0])\n",
    "plt.show()"
   ]
  },
  {
   "cell_type": "code",
   "execution_count": 13,
   "metadata": {},
   "outputs": [],
   "source": [
    "#Making copies of original data\n",
    "X_data = X_train\n",
    "y_data = y_train"
   ]
  },
  {
   "cell_type": "code",
   "execution_count": 14,
   "metadata": {},
   "outputs": [],
   "source": [
    "#있는 데이터로 train, test split해주는 함수, test_size에서 비율 조정 가능\n",
    "from sklearn.model_selection import train_test_split\n",
    "X_train, X_test, y_train, y_test = train_test_split(X_data, y_data, test_size=0.3,random_state=42,stratify=y_data)"
   ]
  },
  {
   "cell_type": "code",
   "execution_count": 15,
   "metadata": {},
   "outputs": [
    {
     "name": "stdout",
     "output_type": "stream",
     "text": [
      "(1073, 60, 60, 3)\n",
      "(1073,)\n",
      "(461, 60, 60, 3)\n",
      "(461,)\n"
     ]
    }
   ],
   "source": [
    "#train,test split된 것 출력해서 확인\n",
    "print(X_train.shape)\n",
    "print(y_train.shape)\n",
    "print(X_test.shape)\n",
    "print(y_test.shape)"
   ]
  },
  {
   "cell_type": "markdown",
   "metadata": {},
   "source": [
    "## Modeling"
   ]
  },
  {
   "cell_type": "code",
   "execution_count": 16,
   "metadata": {},
   "outputs": [],
   "source": [
    "from tensorflow.keras.models import Sequential\n",
    "from tensorflow.keras.layers import Conv2D, MaxPooling2D, Activation, Dense, Flatten"
   ]
  },
  {
   "cell_type": "code",
   "execution_count": 19,
   "metadata": {},
   "outputs": [
    {
     "name": "stdout",
     "output_type": "stream",
     "text": [
      "Model: \"sequential\"\n",
      "_________________________________________________________________\n",
      " Layer (type)                Output Shape              Param #   \n",
      "=================================================================\n",
      " conv2d (Conv2D)             (None, 56, 56, 32)        2432      \n",
      "                                                                 \n",
      " activation (Activation)     (None, 56, 56, 32)        0         \n",
      "                                                                 \n",
      " max_pooling2d (MaxPooling2D  (None, 28, 28, 32)       0         \n",
      " )                                                               \n",
      "                                                                 \n",
      " conv2d_1 (Conv2D)           (None, 26, 26, 64)        18496     \n",
      "                                                                 \n",
      " activation_1 (Activation)   (None, 26, 26, 64)        0         \n",
      "                                                                 \n",
      " max_pooling2d_1 (MaxPooling  (None, 13, 13, 64)       0         \n",
      " 2D)                                                             \n",
      "                                                                 \n",
      " conv2d_2 (Conv2D)           (None, 11, 11, 64)        36928     \n",
      "                                                                 \n",
      " activation_2 (Activation)   (None, 11, 11, 64)        0         \n",
      "                                                                 \n",
      " max_pooling2d_2 (MaxPooling  (None, 5, 5, 64)         0         \n",
      " 2D)                                                             \n",
      "                                                                 \n",
      " flatten (Flatten)           (None, 1600)              0         \n",
      "                                                                 \n",
      " dense (Dense)               (None, 128)               204928    \n",
      "                                                                 \n",
      " dense_1 (Dense)             (None, 11)                1419      \n",
      "                                                                 \n",
      "=================================================================\n",
      "Total params: 264,203\n",
      "Trainable params: 264,203\n",
      "Non-trainable params: 0\n",
      "_________________________________________________________________\n"
     ]
    }
   ],
   "source": [
    "#Building model\n",
    "model = Sequential()\n",
    "\n",
    "model.add(Conv2D(32, (5, 5), input_shape=X_train.shape[1:]))\n",
    "model.add(Activation('relu'))\n",
    "model.add(MaxPooling2D((2, 2)))\n",
    "\n",
    "model.add(Conv2D(64, (3, 3)))\n",
    "model.add(Activation('relu'))\n",
    "model.add(MaxPooling2D((2, 2)))\n",
    "\n",
    "model.add(Conv2D(64, (3, 3)))\n",
    "model.add(Activation('relu'))\n",
    "model.add(MaxPooling2D((2, 2)))\n",
    "\n",
    "model.add(Flatten())\n",
    "\n",
    "model.add(Dense(128, activation='relu'))\n",
    "\n",
    "model.add(Dense(11, activation='softmax')) #softmax함수 이용해서 총 11개 Class(0~10)분류\n",
    "\n",
    "model.summary()"
   ]
  },
  {
   "cell_type": "code",
   "execution_count": 20,
   "metadata": {},
   "outputs": [],
   "source": [
    "#Early Stopping함수를 이용해서 patience수가 넘어가면 자동으로 Early Stopping되게 함\n",
    "from tensorflow.keras.callbacks import EarlyStopping\n",
    "early_stop = EarlyStopping(monitor='val_loss',patience=3)"
   ]
  },
  {
   "cell_type": "code",
   "execution_count": 21,
   "metadata": {},
   "outputs": [],
   "source": [
    "#Compiling\n",
    "model.compile(optimizer='adam',\n",
    "              loss='sparse_categorical_crossentropy',\n",
    "              metrics=['accuracy'])"
   ]
  },
  {
   "cell_type": "code",
   "execution_count": 22,
   "metadata": {},
   "outputs": [
    {
     "name": "stdout",
     "output_type": "stream",
     "text": [
      "Epoch 1/50\n",
      "17/17 - 5s - loss: 2.3857 - accuracy: 0.1528 - val_loss: 2.3676 - val_accuracy: 0.1540 - 5s/epoch - 305ms/step\n",
      "Epoch 2/50\n",
      "17/17 - 3s - loss: 2.3608 - accuracy: 0.1538 - val_loss: 2.3529 - val_accuracy: 0.1540 - 3s/epoch - 198ms/step\n",
      "Epoch 3/50\n",
      "17/17 - 3s - loss: 2.2834 - accuracy: 0.1771 - val_loss: 2.1885 - val_accuracy: 0.2278 - 3s/epoch - 197ms/step\n",
      "Epoch 4/50\n",
      "17/17 - 3s - loss: 1.9841 - accuracy: 0.2842 - val_loss: 1.9613 - val_accuracy: 0.2668 - 3s/epoch - 199ms/step\n",
      "Epoch 5/50\n",
      "17/17 - 3s - loss: 1.7553 - accuracy: 0.3756 - val_loss: 1.8987 - val_accuracy: 0.3210 - 3s/epoch - 197ms/step\n",
      "Epoch 6/50\n",
      "17/17 - 3s - loss: 1.6155 - accuracy: 0.4259 - val_loss: 1.7043 - val_accuracy: 0.4317 - 3s/epoch - 196ms/step\n",
      "Epoch 7/50\n",
      "17/17 - 3s - loss: 1.4089 - accuracy: 0.5135 - val_loss: 1.5608 - val_accuracy: 0.5271 - 3s/epoch - 198ms/step\n",
      "Epoch 8/50\n",
      "17/17 - 3s - loss: 1.2775 - accuracy: 0.5797 - val_loss: 1.5169 - val_accuracy: 0.4967 - 3s/epoch - 196ms/step\n",
      "Epoch 9/50\n",
      "17/17 - 3s - loss: 1.1395 - accuracy: 0.6403 - val_loss: 1.4233 - val_accuracy: 0.5488 - 3s/epoch - 197ms/step\n",
      "Epoch 10/50\n",
      "17/17 - 3s - loss: 0.9132 - accuracy: 0.6952 - val_loss: 1.2854 - val_accuracy: 0.5879 - 3s/epoch - 199ms/step\n",
      "Epoch 11/50\n",
      "17/17 - 3s - loss: 0.8073 - accuracy: 0.7381 - val_loss: 1.2282 - val_accuracy: 0.6139 - 3s/epoch - 200ms/step\n",
      "Epoch 12/50\n",
      "17/17 - 3s - loss: 0.6117 - accuracy: 0.8117 - val_loss: 1.2348 - val_accuracy: 0.6291 - 3s/epoch - 200ms/step\n",
      "Epoch 13/50\n",
      "17/17 - 4s - loss: 0.5151 - accuracy: 0.8322 - val_loss: 1.0644 - val_accuracy: 0.7093 - 4s/epoch - 211ms/step\n",
      "Epoch 14/50\n",
      "17/17 - 3s - loss: 0.4287 - accuracy: 0.8695 - val_loss: 0.9564 - val_accuracy: 0.7354 - 3s/epoch - 203ms/step\n",
      "Epoch 15/50\n",
      "17/17 - 3s - loss: 0.3367 - accuracy: 0.9068 - val_loss: 0.9135 - val_accuracy: 0.7744 - 3s/epoch - 198ms/step\n",
      "Epoch 16/50\n",
      "17/17 - 3s - loss: 0.2742 - accuracy: 0.9245 - val_loss: 0.8492 - val_accuracy: 0.7896 - 3s/epoch - 201ms/step\n",
      "Epoch 17/50\n",
      "17/17 - 3s - loss: 0.2210 - accuracy: 0.9404 - val_loss: 0.8502 - val_accuracy: 0.8004 - 3s/epoch - 199ms/step\n",
      "Epoch 18/50\n",
      "17/17 - 3s - loss: 0.2094 - accuracy: 0.9329 - val_loss: 0.8998 - val_accuracy: 0.7636 - 3s/epoch - 198ms/step\n",
      "Epoch 19/50\n",
      "17/17 - 3s - loss: 0.1865 - accuracy: 0.9525 - val_loss: 0.8786 - val_accuracy: 0.8243 - 3s/epoch - 198ms/step\n"
     ]
    },
    {
     "data": {
      "text/plain": [
       "<keras.callbacks.History at 0x1f254208970>"
      ]
     },
     "execution_count": 22,
     "metadata": {},
     "output_type": "execute_result"
    }
   ],
   "source": [
    "#Model fitting\n",
    "model.fit(X_train, y_train,\n",
    "          epochs=50,\n",
    "          batch_size=BATCHSIZE,\n",
    "          verbose=2,\n",
    "          validation_data=(X_test, y_test),\n",
    "          callbacks=[early_stop])"
   ]
  },
  {
   "cell_type": "markdown",
   "metadata": {},
   "source": [
    "## Result"
   ]
  },
  {
   "cell_type": "code",
   "execution_count": 23,
   "metadata": {},
   "outputs": [
    {
     "name": "stdout",
     "output_type": "stream",
     "text": [
      "The model metrics are\n"
     ]
    },
    {
     "data": {
      "text/html": [
       "<div>\n",
       "<style scoped>\n",
       "    .dataframe tbody tr th:only-of-type {\n",
       "        vertical-align: middle;\n",
       "    }\n",
       "\n",
       "    .dataframe tbody tr th {\n",
       "        vertical-align: top;\n",
       "    }\n",
       "\n",
       "    .dataframe thead th {\n",
       "        text-align: right;\n",
       "    }\n",
       "</style>\n",
       "<table border=\"1\" class=\"dataframe\">\n",
       "  <thead>\n",
       "    <tr style=\"text-align: right;\">\n",
       "      <th></th>\n",
       "      <th>loss</th>\n",
       "      <th>accuracy</th>\n",
       "      <th>val_loss</th>\n",
       "      <th>val_accuracy</th>\n",
       "    </tr>\n",
       "  </thead>\n",
       "  <tbody>\n",
       "    <tr>\n",
       "      <th>0</th>\n",
       "      <td>2.385709</td>\n",
       "      <td>0.152842</td>\n",
       "      <td>2.367618</td>\n",
       "      <td>0.154013</td>\n",
       "    </tr>\n",
       "    <tr>\n",
       "      <th>1</th>\n",
       "      <td>2.360791</td>\n",
       "      <td>0.153774</td>\n",
       "      <td>2.352854</td>\n",
       "      <td>0.154013</td>\n",
       "    </tr>\n",
       "    <tr>\n",
       "      <th>2</th>\n",
       "      <td>2.283397</td>\n",
       "      <td>0.177074</td>\n",
       "      <td>2.188478</td>\n",
       "      <td>0.227766</td>\n",
       "    </tr>\n",
       "    <tr>\n",
       "      <th>3</th>\n",
       "      <td>1.984134</td>\n",
       "      <td>0.284250</td>\n",
       "      <td>1.961314</td>\n",
       "      <td>0.266811</td>\n",
       "    </tr>\n",
       "    <tr>\n",
       "      <th>4</th>\n",
       "      <td>1.755307</td>\n",
       "      <td>0.375582</td>\n",
       "      <td>1.898708</td>\n",
       "      <td>0.321041</td>\n",
       "    </tr>\n",
       "    <tr>\n",
       "      <th>5</th>\n",
       "      <td>1.615455</td>\n",
       "      <td>0.425909</td>\n",
       "      <td>1.704254</td>\n",
       "      <td>0.431670</td>\n",
       "    </tr>\n",
       "    <tr>\n",
       "      <th>6</th>\n",
       "      <td>1.408913</td>\n",
       "      <td>0.513514</td>\n",
       "      <td>1.560835</td>\n",
       "      <td>0.527115</td>\n",
       "    </tr>\n",
       "    <tr>\n",
       "      <th>7</th>\n",
       "      <td>1.277484</td>\n",
       "      <td>0.579683</td>\n",
       "      <td>1.516910</td>\n",
       "      <td>0.496746</td>\n",
       "    </tr>\n",
       "    <tr>\n",
       "      <th>8</th>\n",
       "      <td>1.139469</td>\n",
       "      <td>0.640261</td>\n",
       "      <td>1.423322</td>\n",
       "      <td>0.548807</td>\n",
       "    </tr>\n",
       "    <tr>\n",
       "      <th>9</th>\n",
       "      <td>0.913152</td>\n",
       "      <td>0.695247</td>\n",
       "      <td>1.285390</td>\n",
       "      <td>0.587852</td>\n",
       "    </tr>\n",
       "    <tr>\n",
       "      <th>10</th>\n",
       "      <td>0.807254</td>\n",
       "      <td>0.738117</td>\n",
       "      <td>1.228243</td>\n",
       "      <td>0.613883</td>\n",
       "    </tr>\n",
       "    <tr>\n",
       "      <th>11</th>\n",
       "      <td>0.611654</td>\n",
       "      <td>0.811743</td>\n",
       "      <td>1.234789</td>\n",
       "      <td>0.629067</td>\n",
       "    </tr>\n",
       "    <tr>\n",
       "      <th>12</th>\n",
       "      <td>0.515130</td>\n",
       "      <td>0.832246</td>\n",
       "      <td>1.064429</td>\n",
       "      <td>0.709328</td>\n",
       "    </tr>\n",
       "    <tr>\n",
       "      <th>13</th>\n",
       "      <td>0.428720</td>\n",
       "      <td>0.869525</td>\n",
       "      <td>0.956444</td>\n",
       "      <td>0.735358</td>\n",
       "    </tr>\n",
       "    <tr>\n",
       "      <th>14</th>\n",
       "      <td>0.336674</td>\n",
       "      <td>0.906803</td>\n",
       "      <td>0.913478</td>\n",
       "      <td>0.774403</td>\n",
       "    </tr>\n",
       "    <tr>\n",
       "      <th>15</th>\n",
       "      <td>0.274249</td>\n",
       "      <td>0.924511</td>\n",
       "      <td>0.849185</td>\n",
       "      <td>0.789588</td>\n",
       "    </tr>\n",
       "    <tr>\n",
       "      <th>16</th>\n",
       "      <td>0.220968</td>\n",
       "      <td>0.940354</td>\n",
       "      <td>0.850198</td>\n",
       "      <td>0.800434</td>\n",
       "    </tr>\n",
       "    <tr>\n",
       "      <th>17</th>\n",
       "      <td>0.209383</td>\n",
       "      <td>0.932898</td>\n",
       "      <td>0.899809</td>\n",
       "      <td>0.763557</td>\n",
       "    </tr>\n",
       "    <tr>\n",
       "      <th>18</th>\n",
       "      <td>0.186523</td>\n",
       "      <td>0.952470</td>\n",
       "      <td>0.878621</td>\n",
       "      <td>0.824295</td>\n",
       "    </tr>\n",
       "  </tbody>\n",
       "</table>\n",
       "</div>"
      ],
      "text/plain": [
       "        loss  accuracy  val_loss  val_accuracy\n",
       "0   2.385709  0.152842  2.367618      0.154013\n",
       "1   2.360791  0.153774  2.352854      0.154013\n",
       "2   2.283397  0.177074  2.188478      0.227766\n",
       "3   1.984134  0.284250  1.961314      0.266811\n",
       "4   1.755307  0.375582  1.898708      0.321041\n",
       "5   1.615455  0.425909  1.704254      0.431670\n",
       "6   1.408913  0.513514  1.560835      0.527115\n",
       "7   1.277484  0.579683  1.516910      0.496746\n",
       "8   1.139469  0.640261  1.423322      0.548807\n",
       "9   0.913152  0.695247  1.285390      0.587852\n",
       "10  0.807254  0.738117  1.228243      0.613883\n",
       "11  0.611654  0.811743  1.234789      0.629067\n",
       "12  0.515130  0.832246  1.064429      0.709328\n",
       "13  0.428720  0.869525  0.956444      0.735358\n",
       "14  0.336674  0.906803  0.913478      0.774403\n",
       "15  0.274249  0.924511  0.849185      0.789588\n",
       "16  0.220968  0.940354  0.850198      0.800434\n",
       "17  0.209383  0.932898  0.899809      0.763557\n",
       "18  0.186523  0.952470  0.878621      0.824295"
      ]
     },
     "execution_count": 23,
     "metadata": {},
     "output_type": "execute_result"
    }
   ],
   "source": [
    "#Model metrics\n",
    "metrics = pd.DataFrame(model.history.history)\n",
    "print(\"The model metrics are\")\n",
    "metrics"
   ]
  },
  {
   "cell_type": "code",
   "execution_count": 24,
   "metadata": {},
   "outputs": [
    {
     "data": {
      "image/png": "[encoded data removed]",
      "text/plain": [
       "<Figure size 432x288 with 1 Axes>"
      ]
     },
     "metadata": {
      "needs_background": "light"
     },
     "output_type": "display_data"
    }
   ],
   "source": [
    "#저장된 accuracy 그래프로 출력\n",
    "metrics[['accuracy','val_accuracy']].plot()\n",
    "plt.show()"
   ]
  },
  {
   "cell_type": "code",
   "execution_count": 25,
   "metadata": {},
   "outputs": [
    {
     "data": {
      "image/png": "[encoded data removed]",
      "text/plain": [
       "<Figure size 432x288 with 1 Axes>"
      ]
     },
     "metadata": {
      "needs_background": "light"
     },
     "output_type": "display_data"
    }
   ],
   "source": [
    "#저장된 loss 그래프로 출력\n",
    "metrics[['loss','val_loss']].plot()\n",
    "plt.show()"
   ]
  },
  {
   "cell_type": "code",
   "execution_count": 26,
   "metadata": {},
   "outputs": [
    {
     "data": {
      "text/plain": [
       "[0.8786205649375916, 0.8242949843406677]"
      ]
     },
     "execution_count": 26,
     "metadata": {},
     "output_type": "execute_result"
    }
   ],
   "source": [
    "#Model evaluation\n",
    "model.evaluate(X_test,y_test,verbose=0)"
   ]
  },
  {
   "cell_type": "code",
   "execution_count": 27,
   "metadata": {},
   "outputs": [
    {
     "name": "stdout",
     "output_type": "stream",
     "text": [
      "15/15 [==============================] - 1s 35ms/step\n"
     ]
    }
   ],
   "source": [
    "y_predictions=model.predict(X_test)\n",
    "predictions=y_predictions.argmax(axis=1)"
   ]
  },
  {
   "cell_type": "code",
   "execution_count": 28,
   "metadata": {},
   "outputs": [
    {
     "name": "stdout",
     "output_type": "stream",
     "text": [
      "              precision    recall  f1-score   support\n",
      "\n",
      "           0       0.95      0.86      0.90        21\n",
      "           1       0.95      0.88      0.91        41\n",
      "           2       0.82      0.80      0.81        40\n",
      "           3       0.79      0.90      0.84        41\n",
      "           4       0.77      0.90      0.83        41\n",
      "           5       0.85      0.93      0.89        42\n",
      "           6       0.94      0.73      0.82        41\n",
      "           7       0.76      0.76      0.76        41\n",
      "           8       0.76      0.71      0.73        41\n",
      "           9       0.80      0.68      0.74        41\n",
      "          10       0.81      0.89      0.85        71\n",
      "\n",
      "    accuracy                           0.82       461\n",
      "   macro avg       0.84      0.82      0.82       461\n",
      "weighted avg       0.83      0.82      0.82       461\n",
      "\n"
     ]
    }
   ],
   "source": [
    "#Report\n",
    "from sklearn.metrics import classification_report, confusion_matrix\n",
    "print(classification_report(y_test,predictions))"
   ]
  },
  {
   "cell_type": "code",
   "execution_count": 29,
   "metadata": {},
   "outputs": [
    {
     "data": {
      "image/png": "[encoded data removed]",
      "text/plain": [
       "<Figure size 864x864 with 2 Axes>"
      ]
     },
     "metadata": {
      "needs_background": "light"
     },
     "output_type": "display_data"
    }
   ],
   "source": [
    "#Confusion matrix로 표시\n",
    "plt.figure(figsize=(12,12))\n",
    "sns.heatmap(confusion_matrix(y_test,predictions))\n",
    "plt.show()"
   ]
  }
 ],
 "metadata": {
  "kernelspec": {
   "display_name": "Python 3 (ipykernel)",
   "language": "python",
   "name": "python3"
  },
  "language_info": {
   "codemirror_mode": {
    "name": "ipython",
    "version": 3
   },
   "file_extension": ".py",
   "mimetype": "text/x-python",
   "name": "python",
   "nbconvert_exporter": "python",
   "pygments_lexer": "ipython3",
   "version": "3.9.12"
  }
 },
 "nbformat": 4,
 "nbformat_minor": 4
}
